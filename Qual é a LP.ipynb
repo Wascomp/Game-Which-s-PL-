{
  "nbformat": 4,
  "nbformat_minor": 0,
  "metadata": {
    "colab": {
      "provenance": [],
      "authorship_tag": "ABX9TyMqs7HDQ+Q6ysawySytXvkj",
      "include_colab_link": true
    },
    "kernelspec": {
      "name": "python3",
      "display_name": "Python 3"
    },
    "language_info": {
      "name": "python"
    }
  },
  "cells": [
    {
      "cell_type": "markdown",
      "metadata": {
        "id": "view-in-github",
        "colab_type": "text"
      },
      "source": [
        "<a href=\"https://colab.research.google.com/github/Wascomp/Game-Which-s-PL-/blob/main/Qual%20%C3%A9%20a%20LP.ipynb\" target=\"_parent\"><img src=\"https://colab.research.google.com/assets/colab-badge.svg\" alt=\"Open In Colab\"/></a>"
      ]
    },
    {
      "cell_type": "code",
      "execution_count": 5,
      "metadata": {
        "colab": {
          "base_uri": "https://localhost:8080/"
        },
        "id": "YWJt9etdzrXg",
        "outputId": "63a250d4-4741-46fc-8de4-ae3d6e112e00"
      },
      "outputs": [
        {
          "output_type": "stream",
          "name": "stdout",
          "text": [
            "Adivinhe a linguagem de programação:\n",
            "Interpretada, de alto nível, com tipagem dinâmica, conhecida por sua sintaxe concisa.\n",
            "Sua resposta: node\n",
            "Resposta incorreta. A linguagem era Python.\n"
          ]
        }
      ],
      "source": [
        "import random\n",
        "\n",
        "def jogo_adivinhacao():\n",
        "  \"\"\"\n",
        "  Este jogo apresenta ao usuário uma descrição de uma linguagem de programação\n",
        "  e pede que ele adivinhe qual é a linguagem.\n",
        "  \"\"\"\n",
        "  linguagens = [\n",
        "      (\"Interpretada, de alto nível, com tipagem dinâmica, conhecida por sua sintaxe concisa.\", \"Python\"),\n",
        "      (\"Linguagem compilada, estaticamente tipada, conhecida por sua velocidade e desempenho.\", \"C++\"),\n",
        "      (\"Linguagem de script multiparadigma, usada para desenvolvimento web do lado do cliente e do servidor.\", \"JavaScript\"),\n",
        "      (\"Linguagem de marcação usada para estruturar e apresentar conteúdo na web.\", \"HTML\"),\n",
        "  ]\n",
        "\n",
        "  linguagem, nome = random.choice(linguagens)\n",
        "\n",
        "  print(\"Adivinhe a linguagem de programação:\")\n",
        "  print(linguagem)\n",
        "\n",
        "  resposta = input(\"Sua resposta: \")\n",
        "\n",
        "  if resposta.lower() == nome.lower():\n",
        "    print(\"Parabéns! Você acertou!\")\n",
        "  else:\n",
        "    print(f\"Resposta incorreta. A linguagem era {nome}.\")\n",
        "\n",
        "jogo_adivinhacao()\n",
        "\n"
      ]
    }
  ]
}